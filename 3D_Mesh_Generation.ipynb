{
 "cells": [
  {
   "cell_type": "code",
   "execution_count": 1,
   "id": "ef4ae1ca",
   "metadata": {},
   "outputs": [],
   "source": [
    "import matplotlib\n",
    "matplotlib.use('TkAgg')\n",
    "from matplotlib import pyplot as plt\n",
    "from PIL import Image\n",
    "import torch\n",
    "from transformers import GLPNImageProcessor, GLPNForDepthEstimation\n",
    "\n",
    "feature_extractor = GLPNImageProcessor.from_pretrained(\"vinvino02/glpn-nyu\")\n",
    "model = GLPNForDepthEstimation.from_pretrained(\"vinvino02/glpn-nyu\")"
   ]
  },
  {
   "cell_type": "code",
   "execution_count": 2,
   "id": "bd3603ec",
   "metadata": {},
   "outputs": [],
   "source": [
    "# load and resize the input image\n",
    "image = Image.open(\"cube.jpg\")\n",
    "new_height = 320 if image.height > 320 else image.height\n",
    "new_height -= (new_height % 32)\n",
    "new_width = int(new_height * image.width / image.height)\n",
    "diff = new_width % 32\n",
    "new_width = new_width - diff if diff < 16 else new_width + 32 - diff\n",
    "new_size = (new_width, new_height)\n",
    "image = image.resize(new_size)\n",
    "\n",
    "# prepare image for the model\n",
    "inputs = feature_extractor(images=image, return_tensors=\"pt\")"
   ]
  },
  {
   "cell_type": "code",
   "execution_count": 3,
   "id": "fc15695c",
   "metadata": {},
   "outputs": [],
   "source": [
    "# get the prediction from the model\n",
    "with torch.no_grad():\n",
    "    outputs = model(**inputs)\n",
    "    predicted_depth = outputs.predicted_depth"
   ]
  },
  {
   "cell_type": "code",
   "execution_count": 4,
   "id": "359bc4ed",
   "metadata": {},
   "outputs": [],
   "source": [
    "# remove borders\n",
    "pad = 16\n",
    "output = predicted_depth.squeeze().cpu().numpy() * 1000.0\n",
    "output = output[pad:-pad, pad:-pad]\n",
    "image = image.crop((pad, pad, image.width - pad, image.height - pad))"
   ]
  },
  {
   "cell_type": "code",
   "execution_count": 5,
   "id": "f8beb6b8",
   "metadata": {},
   "outputs": [
    {
     "data": {
      "text/plain": [
       "<matplotlib.image.AxesImage at 0x1628e691990>"
      ]
     },
     "execution_count": 5,
     "metadata": {},
     "output_type": "execute_result"
    }
   ],
   "source": [
    "# visualize the prediction\n",
    "fig, ax = plt.subplots(1, 2)\n",
    "ax[0].imshow(image)"
   ]
  },
  {
   "cell_type": "code",
   "execution_count": 6,
   "id": "4416d79a",
   "metadata": {},
   "outputs": [],
   "source": [
    "ax[0].tick_params(left=False, bottom=False, labelleft=False, labelbottom=False)"
   ]
  },
  {
   "cell_type": "code",
   "execution_count": 7,
   "id": "655cb3d8",
   "metadata": {},
   "outputs": [
    {
     "data": {
      "text/plain": [
       "<matplotlib.image.AxesImage at 0x1628e762110>"
      ]
     },
     "execution_count": 7,
     "metadata": {},
     "output_type": "execute_result"
    }
   ],
   "source": [
    "ax[1].imshow(output, cmap='plasma')"
   ]
  },
  {
   "cell_type": "code",
   "execution_count": 8,
   "id": "bba661a2",
   "metadata": {},
   "outputs": [],
   "source": [
    "ax[1].tick_params(left=False, bottom=False, labelleft=False, labelbottom=False)"
   ]
  },
  {
   "cell_type": "markdown",
   "id": "3fe742fa",
   "metadata": {},
   "source": [
    "plt.tight_layout()"
   ]
  },
  {
   "cell_type": "markdown",
   "id": "7386557d",
   "metadata": {},
   "source": [
    "plt.pause(5)"
   ]
  },
  {
   "cell_type": "code",
   "execution_count": 9,
   "id": "20befba6",
   "metadata": {},
   "outputs": [
    {
     "name": "stdout",
     "output_type": "stream",
     "text": [
      "Jupyter environment detected. Enabling Open3D WebVisualizer.\n",
      "[Open3D INFO] WebRTC GUI backend enabled.\n",
      "[Open3D INFO] WebRTCWindowSystem: HTTP handshake server disabled.\n"
     ]
    }
   ],
   "source": [
    "import numpy as np\n",
    "import open3d as o3d\n",
    "\n",
    "width, height = image.size\n",
    "\n",
    "depth_image = (output * 255 / np.max(output)).astype('uint8')\n",
    "image = np.array(image)\n",
    "\n",
    "# create rgbd image\n",
    "depth_o3d = o3d.geometry.Image(depth_image)\n",
    "image_o3d = o3d.geometry.Image(image)\n",
    "rgbd_image = o3d.geometry.RGBDImage.create_from_color_and_depth(\n",
    "    image_o3d,depth_o3d, convert_rgb_to_intensity=False)\n",
    "\n",
    "# camera settings\n",
    "camera_intrinsic = o3d.camera.PinholeCameraIntrinsic()\n",
    "camera_intrinsic.set_intrinsics(width, height, 500, 500, width/2, height/2)\n",
    "\n",
    "# create point cloud\n",
    "pcd = o3d.geometry.PointCloud.create_from_rgbd_image(\n",
    "    rgbd_image, camera_intrinsic)"
   ]
  },
  {
   "cell_type": "code",
   "execution_count": 10,
   "id": "73f7f935",
   "metadata": {},
   "outputs": [],
   "source": [
    "o3d.visualization.draw_geometries([pcd])"
   ]
  },
  {
   "cell_type": "code",
   "execution_count": 11,
   "id": "7485a618",
   "metadata": {},
   "outputs": [],
   "source": [
    "# outliers removal\n",
    "cl, ind = pcd.remove_statistical_outlier(nb_neighbors=20, std_ratio=20.0)\n",
    "pcd = pcd.select_by_index(ind)\n",
    "\n",
    "# estimate normals\n",
    "pcd.estimate_normals()\n",
    "pcd.orient_normals_to_align_with_direction()\n",
    "\n",
    "# surface reconstruction\n",
    "mesh = o3d.geometry.TriangleMesh.create_from_point_cloud_poisson(\n",
    "    pcd,depth=10,n_threads=1)[0]\n",
    "\n",
    "# rotate the mesh\n",
    "rotation = mesh.get_rotation_matrix_from_xyz((np.pi, 0, 0))\n",
    "mesh.rotate(rotation, center=(0, 0, 0))\n",
    "\n",
    "# save the mesh\n",
    "o3d.io.write_triangle_mesh(f'./cube.obj', mesh)\n",
    "\n",
    "# visualize the mesh\n",
    "o3d.visualization.draw_geometries([mesh], mesh_show_back_face=True)"
   ]
  },
  {
   "cell_type": "markdown",
   "id": "db72719c",
   "metadata": {},
   "source": [
    "!pip install transformers"
   ]
  },
  {
   "cell_type": "markdown",
   "id": "bc67a82a",
   "metadata": {},
   "source": [
    "!pip install --upgrade transformers"
   ]
  },
  {
   "cell_type": "markdown",
   "id": "7f39c2c9",
   "metadata": {},
   "source": [
    "!pip install open3d"
   ]
  },
  {
   "cell_type": "markdown",
   "id": "ab20732b",
   "metadata": {},
   "source": [
    "## "
   ]
  }
 ],
 "metadata": {
  "kernelspec": {
   "display_name": "Python 3 (ipykernel)",
   "language": "python",
   "name": "python3"
  },
  "language_info": {
   "codemirror_mode": {
    "name": "ipython",
    "version": 3
   },
   "file_extension": ".py",
   "mimetype": "text/x-python",
   "name": "python",
   "nbconvert_exporter": "python",
   "pygments_lexer": "ipython3",
   "version": "3.10.9"
  }
 },
 "nbformat": 4,
 "nbformat_minor": 5
}
